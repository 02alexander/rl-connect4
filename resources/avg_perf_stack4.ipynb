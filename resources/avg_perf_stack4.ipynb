{
 "cells": [
  {
   "cell_type": "code",
   "execution_count": 4,
   "metadata": {},
   "outputs": [],
   "source": [
    "import numpy as np\n",
    "import subprocess\n",
    "import os\n",
    "import sys\n",
    "import shutil\n",
    "import matplotlib.pyplot as plt\n",
    "\n"
   ]
  },
  {
   "cell_type": "code",
   "execution_count": 1,
   "metadata": {},
   "outputs": [],
   "source": [
    "def plot_scores(scores, n, name=None):\n",
    "    nsc = np.array(scores)\n",
    "    avg_scores = np.average(nsc, 0)\n",
    "    movavg = np.convolve(avg_scores, np.ones(n), 'valid')/n\n",
    "    plt.plot(movavg, label=name)"
   ]
  },
  {
   "cell_type": "code",
   "execution_count": 60,
   "metadata": {},
   "outputs": [],
   "source": [
    "# How man runs it should average over.\n",
    "NB_RUNS = 1\n",
    "\n",
    "NB_EPISODES = 3000\n",
    "\n",
    "dir_path = os.path.dirname(os.path.realpath(__vsc_ipynb_file__))\n",
    "os.chdir(dir_path)\n",
    "OPPONENT = \"simpleai.json\"\n",
    "SELF = \"cons.json\"\n",
    "FTEMP = \"AVG_PERF_TEMP_AI_FILE.json\"\n",
    "COMMAND = \"../target/release/connect4\""
   ]
  },
  {
   "cell_type": "code",
   "execution_count": 61,
   "metadata": {},
   "outputs": [
    {
     "name": "stdout",
     "output_type": "stream",
     "text": [
      "0\n"
     ]
    }
   ],
   "source": [
    "scores = []\n",
    "for i in range(NB_RUNS):\n",
    "    print(i)\n",
    "    # So that the starting ai remains the same over all runs.\n",
    "    shutil.copy(SELF, FTEMP)\n",
    "    out = subprocess.check_output([COMMAND, \"stack4\", \"train-against\", FTEMP, OPPONENT, \"--iterations\", str(NB_EPISODES), '-s'])\n",
    "    l = np.array(eval(out))\n",
    "    scores.append(l)\n"
   ]
  },
  {
   "cell_type": "code",
   "execution_count": 62,
   "metadata": {},
   "outputs": [
    {
     "name": "stderr",
     "output_type": "stream",
     "text": [
      "No artists with labels found to put in legend.  Note that artists whose label start with an underscore are ignored when legend() is called with no argument.\n"
     ]
    },
    {
     "data": {
      "image/png": "[encoded data removed]",
      "text/plain": [
       "<Figure size 432x288 with 1 Axes>"
      ]
     },
     "metadata": {
      "needs_background": "light"
     },
     "output_type": "display_data"
    }
   ],
   "source": [
    "plot_scores(scores, 200)\n",
    "plt.legend()\n",
    "plt.ylim([0.0,1.2])\n",
    "plt.grid()\n",
    "plt.show()"
   ]
  },
  {
   "cell_type": "code",
   "execution_count": 12,
   "metadata": {},
   "outputs": [
    {
     "name": "stdout",
     "output_type": "stream",
     "text": [
      "Stored 'w_symmetries_score' (list)\n"
     ]
    }
   ],
   "source": [
    "\n",
    "# w_symmetries_score = scores\n",
    "# %store w_symmetries_score\n"
   ]
  }
 ],
 "metadata": {
  "interpreter": {
   "hash": "31f2aee4e71d21fbe5cf8b01ff0e069b9275f58929596ceb00d14d90e3e16cd6"
  },
  "kernelspec": {
   "display_name": "Python 3.9.7 64-bit",
   "language": "python",
   "name": "python3"
  },
  "language_info": {
   "codemirror_mode": {
    "name": "ipython",
    "version": 3
   },
   "file_extension": ".py",
   "mimetype": "text/x-python",
   "name": "python",
   "nbconvert_exporter": "python",
   "pygments_lexer": "ipython3",
   "version": "3.10.2"
  },
  "orig_nbformat": 4
 },
 "nbformat": 4,
 "nbformat_minor": 2
}
