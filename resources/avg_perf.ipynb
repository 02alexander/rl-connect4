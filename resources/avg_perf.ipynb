{
 "cells": [
  {
   "cell_type": "code",
   "execution_count": 2,
   "metadata": {},
   "outputs": [],
   "source": [
    "import numpy as np\n",
    "import subprocess\n",
    "import os\n",
    "import sys\n",
    "import shutil\n",
    "import matplotlib.pyplot as plt\n",
    "\n"
   ]
  },
  {
   "cell_type": "code",
   "execution_count": 3,
   "metadata": {},
   "outputs": [],
   "source": [
    "def plot_scores(scores, n):\n",
    "    nsc = np.array(scores)\n",
    "    avg_scores = np.average(nsc, 0)\n",
    "    movavg = np.convolve(avg_scores, np.ones(n), 'valid')/n\n",
    "    plt.plot(movavg)"
   ]
  },
  {
   "cell_type": "code",
   "execution_count": 37,
   "metadata": {},
   "outputs": [],
   "source": [
    "# How man runs it should average over.\n",
    "NB_RUNS = 1\n",
    "\n",
    "NB_EPISODES = 10000\n",
    "\n",
    "dir_path = os.path.dirname(os.path.realpath(__vsc_ipynb_file__))\n",
    "os.chdir(dir_path)\n",
    "OPPONENT = \"simpleai.json\"\n",
    "SELF = \"cnn30000.json\"\n",
    "FTEMP = \"AVG_PERF_TEMP_AI_FILE.json\"\n",
    "COMMAND = \"../target/release/connect4\"\n"
   ]
  },
  {
   "cell_type": "code",
   "execution_count": 38,
   "metadata": {},
   "outputs": [
    {
     "name": "stdout",
     "output_type": "stream",
     "text": [
      "0\n"
     ]
    }
   ],
   "source": [
    "scores = []\n",
    "for i in range(NB_RUNS):\n",
    "    print(i)\n",
    "    # So that the starting ai remains the same over all runs.\n",
    "    shutil.copy(SELF, FTEMP)\n",
    "    out = subprocess.check_output([COMMAND, \"train-against\", FTEMP, OPPONENT, \"--iterations\", str(NB_EPISODES), '-s'])\n",
    "    l = np.array(eval(out))\n",
    "    #print(np.mean(l[:]))\n",
    "    scores.append(l)\n",
    "    \n"
   ]
  },
  {
   "cell_type": "code",
   "execution_count": 40,
   "metadata": {},
   "outputs": [
    {
     "data": {
      "image/png": "[encoded data removed]",
      "text/plain": [
       "<Figure size 432x288 with 1 Axes>"
      ]
     },
     "metadata": {
      "needs_background": "light"
     },
     "output_type": "display_data"
    }
   ],
   "source": [
    "plot_scores(scores, 3000)\n",
    "#plot_scores(long_cnn_scores, 500)\n",
    "#plot_scores(lr0_0001e0_1_scores,100)\n",
    "#plot_scores(lr0_001r0_1_scores, 100)\n",
    "#plot_scores(lr0_01e0_1_scores, 100)\n",
    "plt.ylim([0.5,1.2])\n",
    "plt.grid()\n",
    "plt.show()"
   ]
  },
  {
   "cell_type": "code",
   "execution_count": 1,
   "metadata": {},
   "outputs": [],
   "source": [
    "#lr0_0001e0_1_scores = scores\n",
    "#lr0_01e0_1_scores = scores\n",
    "#lr0_001r0_1_scores = scores\n",
    "#cons_scores = scores\n",
    "#cnn_scores = scores\n",
    "#long_cnn_scores = scores"
   ]
  },
  {
   "cell_type": "code",
   "execution_count": 2,
   "metadata": {},
   "outputs": [
    {
     "name": "stdout",
     "output_type": "stream",
     "text": [
      "Stored 'cons_scores' (ndarray)\n",
      "Stored 'cnn_scores' (ndarray)\n",
      "Stored 'long_cnn_scores' (list)\n",
      "Stored 'lr0_001r0_1_scores' (list)\n",
      "Stored 'lr0_01e0_1_scores' (list)\n",
      "Stored 'lr0_0001e0_1_scores' (list)\n"
     ]
    }
   ],
   "source": [
    "%store cons_scores\n",
    "%store cnn_scores\n",
    "%store long_cnn_scores\n",
    "%store lr0_001r0_1_scores\n",
    "%store lr0_01e0_1_scores\n",
    "%store lr0_0001e0_1_scores"
   ]
  }
 ],
 "metadata": {
  "interpreter": {
   "hash": "767d51c1340bd893661ea55ea3124f6de3c7a262a8b4abca0554b478b1e2ff90"
  },
  "kernelspec": {
   "display_name": "Python 3.10.2 64-bit",
   "language": "python",
   "name": "python3"
  },
  "language_info": {
   "codemirror_mode": {
    "name": "ipython",
    "version": 3
   },
   "file_extension": ".py",
   "mimetype": "text/x-python",
   "name": "python",
   "nbconvert_exporter": "python",
   "pygments_lexer": "ipython3",
   "version": "3.10.2"
  },
  "orig_nbformat": 4
 },
 "nbformat": 4,
 "nbformat_minor": 2
}
