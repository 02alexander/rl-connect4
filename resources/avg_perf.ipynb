{
 "cells": [
  {
   "cell_type": "code",
   "execution_count": 1,
   "metadata": {},
   "outputs": [],
   "source": [
    "import numpy as np\n",
    "import subprocess\n",
    "import os\n",
    "import sys\n",
    "import shutil\n",
    "import matplotlib.pyplot as plt\n",
    "\n"
   ]
  },
  {
   "cell_type": "code",
   "execution_count": 15,
   "metadata": {},
   "outputs": [],
   "source": [
    "def plot_scores(scores, n, name=None):\n",
    "    nsc = np.array(scores)\n",
    "    avg_scores = np.average(nsc, 0)\n",
    "    movavg = np.convolve(avg_scores, np.ones(n), 'valid')/n\n",
    "    plt.plot(movavg, label=name)"
   ]
  },
  {
   "cell_type": "code",
   "execution_count": 27,
   "metadata": {},
   "outputs": [],
   "source": [
    "# How man runs it should average over.\n",
    "NB_RUNS = 10\n",
    "\n",
    "NB_EPISODES = 1000\n",
    "\n",
    "dir_path = os.path.dirname(os.path.realpath(__vsc_ipynb_file__))\n",
    "os.chdir(dir_path)\n",
    "OPPONENT = \"simpleai.json\"\n",
    "SELF = \"cons_lmbda0.8adj_lr.json\"\n",
    "FTEMP = \"AVG_PERF_TEMP_AI_FILE.json\"\n",
    "COMMAND = \"../target/release/connect4\"\n"
   ]
  },
  {
   "cell_type": "code",
   "execution_count": 28,
   "metadata": {},
   "outputs": [
    {
     "name": "stdout",
     "output_type": "stream",
     "text": [
      "0\n",
      "1\n",
      "2\n",
      "3\n",
      "4\n",
      "5\n",
      "6\n",
      "7\n",
      "8\n",
      "9\n"
     ]
    }
   ],
   "source": [
    "scores = []\n",
    "for i in range(NB_RUNS):\n",
    "    print(i)\n",
    "    # So that the starting ai remains the same over all runs.\n",
    "    shutil.copy(SELF, FTEMP)\n",
    "    out = subprocess.check_output([COMMAND, \"train-against\", FTEMP, OPPONENT, \"--iterations\", str(NB_EPISODES), '-s'])\n",
    "    l = np.array(eval(out))\n",
    "    #print(np.mean(l[:]))\n",
    "    scores.append(l)\n",
    "\n"
   ]
  },
  {
   "cell_type": "code",
   "execution_count": 30,
   "metadata": {},
   "outputs": [
    {
     "data": {
      "image/png": "[encoded data removed]",
      "text/plain": [
       "<Figure size 432x288 with 1 Axes>"
      ]
     },
     "metadata": {
      "needs_background": "light"
     },
     "output_type": "display_data"
    }
   ],
   "source": [
    "plot_scores(scores, 100, name=\"adj lr l=0.8\")\n",
    "#plot_scores(lmbda0_8_scores, 100, name=\"lambda=0.8\")\n",
    "#plot_scores(lmbda0_4_scores, 100, name=\"lambda=0.4\")\n",
    "plot_scores(lmbda0_0_scores, 100, name=\"lambda=0.0\")\n",
    "plt.legend()\n",
    "\n",
    "#plot_scores(long_cnn_scores, 500)\n",
    "#plot_scores(lr0_0001e0_1_scores,100)\n",
    "#plot_scores(lr0_001r0_1_scores, 100)\n",
    "#plot_scores(lr0_01e0_1_scores, 100)\n",
    "plt.ylim([0.0,1.2])\n",
    "plt.grid()\n",
    "plt.show()"
   ]
  },
  {
   "cell_type": "code",
   "execution_count": 24,
   "metadata": {},
   "outputs": [],
   "source": [
    "#lr0_0001e0_1_scores = scores\n",
    "#lr0_01e0_1_scores = scores\n",
    "#lr0_001r0_1_scores = scores\n",
    "#cons_scores = scores\n",
    "#cnn_scores = scores\n",
    "#long_cnn_scores = scores\n",
    "#lmbda0_0_scores = scores\n",
    "#lmbda0_4_scores = scores\n",
    "#lmbda0_8_scores = scores"
   ]
  },
  {
   "cell_type": "code",
   "execution_count": 25,
   "metadata": {},
   "outputs": [
    {
     "name": "stdout",
     "output_type": "stream",
     "text": [
      "Stored 'lmbda0_8_scores' (list)\n"
     ]
    }
   ],
   "source": [
    "# %store cons_scores\n",
    "# %store cnn_scores\n",
    "# %store long_cnn_scores\n",
    "# %store lr0_001r0_1_scores\n",
    "# %store lr0_01e0_1_scores\n",
    "# %store lr0_0001e0_1_scores\n",
    "# %store lmbda0_0_scores\n",
    "# %store lmbda0_4_scores\n",
    "# %store lmbda0_8_scores"
   ]
  }
 ],
 "metadata": {
  "interpreter": {
   "hash": "767d51c1340bd893661ea55ea3124f6de3c7a262a8b4abca0554b478b1e2ff90"
  },
  "kernelspec": {
   "display_name": "Python 3.10.2 64-bit",
   "language": "python",
   "name": "python3"
  },
  "language_info": {
   "codemirror_mode": {
    "name": "ipython",
    "version": 3
   },
   "file_extension": ".py",
   "mimetype": "text/x-python",
   "name": "python",
   "nbconvert_exporter": "python",
   "pygments_lexer": "ipython3",
   "version": "3.10.2"
  },
  "orig_nbformat": 4
 },
 "nbformat": 4,
 "nbformat_minor": 2
}
