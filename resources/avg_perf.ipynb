{
 "cells": [
  {
   "cell_type": "code",
   "execution_count": 1,
   "metadata": {},
   "outputs": [],
   "source": [
    "import numpy as np\n",
    "import subprocess\n",
    "import os\n",
    "import shutil\n",
    "import matplotlib.pyplot as plt\n",
    "\n"
   ]
  },
  {
   "cell_type": "code",
   "execution_count": 2,
   "metadata": {},
   "outputs": [],
   "source": [
    "# How man runs it should average over.\n",
    "NB_RUNS = 10\n",
    "\n",
    "NB_EPISODES = 500\n",
    "\n",
    "OPPONENT = \"simpleai.json\"\n",
    "SELF = \"start_ai.json\"\n",
    "FTEMP = \"AVG_PERF_TEMP_AI_FILE.json\"\n",
    "COMMAND = \"../target/release/connect4\"\n",
    "\n",
    "\n"
   ]
  },
  {
   "cell_type": "code",
   "execution_count": null,
   "metadata": {},
   "outputs": [],
   "source": [
    "scores = []\n",
    "for i in range(NB_RUNS):\n",
    "    print(i)\n",
    "    # So that the starting ai remains the same over all runs.\n",
    "    shutil.copy(SELF, FTEMP)\n",
    "    out = subprocess.check_output([COMMAND, \"train-against\", FTEMP, OPPONENT, str(NB_EPISODES), '-s'])\n",
    "    scores.append(np.array(eval(out)))\n"
   ]
  },
  {
   "cell_type": "code",
   "execution_count": null,
   "metadata": {},
   "outputs": [],
   "source": [
    "scores = np.array(scores)\n",
    "print(scores)\n",
    "avg_scores = np.mean(scores, 0)\n",
    "movavg = np.convolve(avg_scores, np.ones(15), 'valid')/15\n",
    "plt.plot(movavg)\n",
    "plt.ylim([-1.2,1.2])\n",
    "plt.grid()\n",
    "plt.show()"
   ]
  }
 ],
 "metadata": {
  "interpreter": {
   "hash": "767d51c1340bd893661ea55ea3124f6de3c7a262a8b4abca0554b478b1e2ff90"
  },
  "kernelspec": {
   "display_name": "Python 3.10.2 64-bit",
   "language": "python",
   "name": "python3"
  },
  "language_info": {
   "codemirror_mode": {
    "name": "ipython",
    "version": 3
   },
   "file_extension": ".py",
   "mimetype": "text/x-python",
   "name": "python",
   "nbconvert_exporter": "python",
   "pygments_lexer": "ipython3",
   "version": "3.10.2"
  },
  "orig_nbformat": 4
 },
 "nbformat": 4,
 "nbformat_minor": 2
}
